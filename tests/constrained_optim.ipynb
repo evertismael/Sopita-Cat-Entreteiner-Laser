{
 "cells": [
  {
   "cell_type": "code",
   "execution_count": 1,
   "metadata": {},
   "outputs": [],
   "source": [
    "import numpy as np\n",
    "from scipy.optimize import minimize\n",
    "from scipy.optimize import Bounds\n",
    "\n",
    "def foo(x):\n",
    "    return sum( (x-np.array([1,2,3]))**2)"
   ]
  },
  {
   "cell_type": "code",
   "execution_count": 2,
   "metadata": {},
   "outputs": [
    {
     "name": "stdout",
     "output_type": "stream",
     "text": [
      "5\n",
      "[0.99995732 1.9999766  3.00002708]\n"
     ]
    },
    {
     "name": "stderr",
     "output_type": "stream",
     "text": [
      "C:\\Users\\evert\\AppData\\Local\\Temp\\ipykernel_20576\\3293204988.py:5: OptimizeWarning: Unknown solver options: verbose\n",
      "  res = minimize(foo,x0, method='nelder-mead', bounds=bounds, options={'verbose':0})\n"
     ]
    }
   ],
   "source": [
    "x0 = np.array([1,4,2])\n",
    "print(foo(x0))\n",
    "\n",
    "bounds = Bounds([-100,-100,-100],[100,100,100])\n",
    "res = minimize(foo,x0, method='nelder-mead', bounds=bounds, options={'verbose':0})\n",
    "print(res.x)"
   ]
  },
  {
   "cell_type": "markdown",
   "metadata": {},
   "source": [
    "# Recover the rotation angles"
   ]
  },
  {
   "cell_type": "code",
   "execution_count": 3,
   "metadata": {},
   "outputs": [],
   "source": [
    "import cv2\n",
    "# True params:\n",
    "angles_true = np.array([0,50,30])\n",
    "R_true,_ = cv2.Rodrigues(np.deg2rad(angles_true))\n",
    "T_true = np.array([0,1,3]).reshape(3,1)\n",
    "\n",
    "Pw = np.array([[0,0,0],[0,1,1],[0,4,1],[0,5,2],[0,5,5],[4,3,-1]]).T\n",
    "Pl = R_true.dot(Pw) + T_true"
   ]
  },
  {
   "cell_type": "code",
   "execution_count": 11,
   "metadata": {},
   "outputs": [
    {
     "name": "stdout",
     "output_type": "stream",
     "text": [
      "[[5.21090317]]\n"
     ]
    }
   ],
   "source": [
    "# with this data: reestimate the angles:\n",
    "def error_angles(ang_and_T, Pw, Pl):\n",
    "    angles_hat = np.array(ang_and_T[0:3])\n",
    "    T_hat = np.array(ang_and_T[3:])\n",
    "    R_hat,_ = cv2.Rodrigues(np.deg2rad(angles_hat))\n",
    "\n",
    "    Pl_hat = R_hat.dot(Pw) + T_hat.reshape(3,1)\n",
    "    error = np.mean(np.sum((Pl - Pl_hat)**2,axis=0,keepdims=True), axis=1, keepdims=True)\n",
    "    return error\n",
    "\n",
    "ang_and_T = [0,0,31,0,1,3]\n",
    "err = error_angles(ang_and_T,Pw,Pl)\n",
    "print(err)\n",
    "\n"
   ]
  },
  {
   "cell_type": "code",
   "execution_count": 5,
   "metadata": {},
   "outputs": [
    {
     "name": "stderr",
     "output_type": "stream",
     "text": [
      "C:\\Users\\evert\\AppData\\Local\\Temp\\ipykernel_20576\\2597574607.py:10: OptimizeWarning: Unknown solver options: display\n",
      "  res = minimize(error_angles,x0,args=(Pw,Pl),method='nelder-mead',options={'display':True})\n"
     ]
    },
    {
     "name": "stdout",
     "output_type": "stream",
     "text": [
      "[-2.57239528e-06  5.00000086e+01  2.99999916e+01  1.56235703e-06\n",
      "  9.99999993e-01  3.00000150e+00]\n"
     ]
    }
   ],
   "source": [
    "from scipy.optimize import minimize\n",
    "from scipy.optimize import Bounds\n",
    "\n",
    "# find the angles and T using optimization:\n",
    "x0 = np.array([10,20,40,10.1,20.5,3.5])\n",
    "x0mins = [-90,-90,-90,-0.004,-100,-100]\n",
    "x0max =  [ 90, 90, 90, 100, 100, 100]\n",
    "bounds = Bounds(x0mins, x0max)\n",
    "\n",
    "res = minimize(error_angles,x0,args=(Pw,Pl),method='nelder-mead',options={'display':True})\n",
    "print(res.x)"
   ]
  },
  {
   "cell_type": "markdown",
   "metadata": {},
   "source": [
    "# Optimization problem with worl points and unitary directions"
   ]
  },
  {
   "cell_type": "code",
   "execution_count": 18,
   "metadata": {},
   "outputs": [
    {
     "name": "stdout",
     "output_type": "stream",
     "text": [
      "(3, 6)\n",
      "[1. 1. 1. 1. 1. 1.]\n"
     ]
    }
   ],
   "source": [
    "import cv2\n",
    "# True params:\n",
    "angles_true = np.array([0,50,30])\n",
    "R_true,_ = cv2.Rodrigues(np.deg2rad(angles_true))\n",
    "T_true = np.array([0,1,3]).reshape(3,1)\n",
    "\n",
    "Pw = np.array([[0,0,0],[0,1,1],[0,4,1],[0,5,2],[0,5,5],[4,3,-1]]).T\n",
    "Pl = R_true.dot(Pw) + T_true\n",
    "Ul = Pl/np.sqrt(np.sum(Pl**2,axis=0,keepdims=True))\n",
    "\n",
    "print(Ul.shape)\n",
    "print(np.sum(Ul**2,0))"
   ]
  },
  {
   "cell_type": "code",
   "execution_count": 19,
   "metadata": {},
   "outputs": [
    {
     "name": "stdout",
     "output_type": "stream",
     "text": [
      "[[0.08390432]]\n"
     ]
    }
   ],
   "source": [
    "# with this data: reestimate the angles:\n",
    "def error_angles_with_Ul(ang_and_T, Pw, Ul):\n",
    "    angles_hat = np.array(ang_and_T[0:3])\n",
    "    T_hat = np.array(ang_and_T[3:])\n",
    "    R_hat,_ = cv2.Rodrigues(np.deg2rad(angles_hat))\n",
    "\n",
    "    Pl_hat = R_hat.dot(Pw) + T_hat.reshape(3,1)\n",
    "    Ul_hat = Pl_hat/np.sqrt(np.sum(Pl_hat**2,axis=0,keepdims=True))\n",
    "\n",
    "    error = np.mean(np.sum((Ul - Ul_hat)**2,axis=0,keepdims=True), axis=1, keepdims=True)\n",
    "    return error\n",
    "\n",
    "ang_and_T = [0,0,31,0,1,3]\n",
    "err = error_angles_with_Ul(ang_and_T,Pw,Ul)\n",
    "print(err)\n"
   ]
  },
  {
   "cell_type": "code",
   "execution_count": 20,
   "metadata": {},
   "outputs": [
    {
     "name": "stdout",
     "output_type": "stream",
     "text": [
      "[ 0 50 30] [[0]\n",
      " [1]\n",
      " [3]]\n",
      "[ 1.56892494e-04  4.99998625e+01  2.99997780e+01 -2.26588348e-06\n",
      "  9.99992515e-01  2.99998586e+00]\n"
     ]
    },
    {
     "name": "stderr",
     "output_type": "stream",
     "text": [
      "C:\\Users\\evert\\AppData\\Local\\Temp\\ipykernel_20576\\415718137.py:10: OptimizeWarning: Unknown solver options: display\n",
      "  res = minimize(error_angles_with_Ul,x0,args=(Pw,Ul),method='nelder-mead',options={'display':True})\n"
     ]
    }
   ],
   "source": [
    "from scipy.optimize import minimize\n",
    "from scipy.optimize import Bounds\n",
    "\n",
    "# find the angles and T using optimization:\n",
    "x0 = np.array([10,20,40,10.1,20.5,3.5])\n",
    "x0mins = [-90,-90,-90,-0.004,-100,-100]\n",
    "x0max =  [ 90, 90, 90, 100, 100, 100]\n",
    "bounds = Bounds(x0mins, x0max)\n",
    "\n",
    "res = minimize(error_angles_with_Ul,x0,args=(Pw,Ul),method='nelder-mead',options={'display':True})\n",
    "print(angles_true, T_true)\n",
    "print(res.x)"
   ]
  }
 ],
 "metadata": {
  "kernelspec": {
   "display_name": "py38cu128",
   "language": "python",
   "name": "python3"
  },
  "language_info": {
   "codemirror_mode": {
    "name": "ipython",
    "version": 3
   },
   "file_extension": ".py",
   "mimetype": "text/x-python",
   "name": "python",
   "nbconvert_exporter": "python",
   "pygments_lexer": "ipython3",
   "version": "3.8.19"
  }
 },
 "nbformat": 4,
 "nbformat_minor": 2
}
