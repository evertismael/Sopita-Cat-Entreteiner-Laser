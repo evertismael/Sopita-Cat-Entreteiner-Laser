{
 "cells": [
  {
   "cell_type": "code",
   "execution_count": 2,
   "metadata": {},
   "outputs": [
    {
     "name": "stdout",
     "output_type": "stream",
     "text": [
      "True parameters R, T\n",
      "[[ 0.8660254 -0.5        0.       ]\n",
      " [ 0.5        0.8660254  0.       ]\n",
      " [ 0.         0.         1.       ]]\n",
      "[[0]\n",
      " [2]\n",
      " [1]]\n",
      "-----------------------------\n",
      "World points Pw:\n",
      "[[-1  2  3  2  0]\n",
      " [ 1  1  4  8  5]\n",
      " [ 0  0  0  0  0]]\n",
      "Laser points Pw (Not known):\n",
      "[[-1.3660254   1.23205081  0.59807621 -2.26794919 -2.5       ]\n",
      " [ 2.3660254   3.8660254   6.96410162  9.92820323  6.33012702]\n",
      " [ 1.          1.          1.          1.          1.        ]]\n",
      "Directional vectors in laser coords:\n",
      "[[-0.4695354   0.29481902  0.08470246 -0.22163248 -0.36342543]\n",
      " [ 0.81325917  0.92510617  0.98628996  0.97022117  0.92021165]\n",
      " [ 0.34372377  0.23929128  0.14162487  0.09772374  0.14537017]]\n"
     ]
    }
   ],
   "source": [
    "import numpy as np\n",
    "import cv2\n",
    "\n",
    "# True params to be estimated:\n",
    "R_truth, _ = cv2.Rodrigues(np.array([0,0,np.deg2rad(30)]))\n",
    "T_truth = np.array([0,2,1]).reshape(3,1)\n",
    "\n",
    "# Create known data:\n",
    "# world points over the plane z=0 (Notice the transpose)\n",
    "Pw = np.array([[-1,1,0], [2,1,0], [3,4,0],[2,8,0],[0,5,0]]).T\n",
    "Pl = R_truth.dot(Pw) + T_truth\n",
    "Ul = Pl/np.sqrt(np.sum((Pl**2),axis=0))\n",
    "\n",
    "print(f'True parameters R, T')\n",
    "print(R_truth)\n",
    "print(T_truth)\n",
    "print('-----------------------------')\n",
    "print(f'World points Pw:')\n",
    "print(Pw)\n",
    "print(f'Laser points Pw (Not known):')\n",
    "print(Pl)\n",
    "print(f'Directional vectors in laser coords:')\n",
    "print(Ul)"
   ]
  },
  {
   "cell_type": "code",
   "execution_count": null,
   "metadata": {},
   "outputs": [
    {
     "name": "stderr",
     "output_type": "stream",
     "text": [
      "C:\\Users\\evert\\AppData\\Local\\Temp\\ipykernel_440\\2009906348.py:29: RuntimeWarning: invalid value encountered in sqrt\n",
      "  rs_mis = np.sqrt(1 - np.sum(rs_hat**2,1,keepdims=True))\n"
     ]
    },
    {
     "ename": "KeyboardInterrupt",
     "evalue": "",
     "output_type": "error",
     "traceback": [
      "\u001b[1;31m---------------------------------------------------------------------------\u001b[0m",
      "\u001b[1;31mKeyboardInterrupt\u001b[0m                         Traceback (most recent call last)",
      "Cell \u001b[1;32mIn[15], line 34\u001b[0m\n\u001b[0;32m     31\u001b[0m     R_hat \u001b[38;5;241m=\u001b[39m np\u001b[38;5;241m.\u001b[39mcolumn_stack((rs_hat,rs_mis))\n\u001b[0;32m     32\u001b[0m     a\u001b[38;5;241m=\u001b[39m\u001b[38;5;241m2\u001b[39m\n\u001b[1;32m---> 34\u001b[0m \u001b[43mstep_1\u001b[49m\u001b[43m(\u001b[49m\u001b[43mk0\u001b[49m\u001b[43m,\u001b[49m\u001b[43mUl\u001b[49m\u001b[43m,\u001b[49m\u001b[43mPw\u001b[49m\u001b[43m)\u001b[49m\n\u001b[0;32m     38\u001b[0m \u001b[38;5;28mprint\u001b[39m(k0\u001b[38;5;241m.\u001b[39mshape)\n",
      "Cell \u001b[1;32mIn[15], line 32\u001b[0m, in \u001b[0;36mstep_1\u001b[1;34m(k, Ul, Pw)\u001b[0m\n\u001b[0;32m     30\u001b[0m rx3 \u001b[38;5;241m=\u001b[39m rs_mis\u001b[38;5;241m.\u001b[39mreshape(\u001b[38;5;241m3\u001b[39m,\u001b[38;5;241m1\u001b[39m)\n\u001b[0;32m     31\u001b[0m R_hat \u001b[38;5;241m=\u001b[39m np\u001b[38;5;241m.\u001b[39mcolumn_stack((rs_hat,rs_mis))\n\u001b[1;32m---> 32\u001b[0m a\u001b[38;5;241m=\u001b[39m\u001b[38;5;241m2\u001b[39m\n",
      "Cell \u001b[1;32mIn[15], line 32\u001b[0m, in \u001b[0;36mstep_1\u001b[1;34m(k, Ul, Pw)\u001b[0m\n\u001b[0;32m     30\u001b[0m rx3 \u001b[38;5;241m=\u001b[39m rs_mis\u001b[38;5;241m.\u001b[39mreshape(\u001b[38;5;241m3\u001b[39m,\u001b[38;5;241m1\u001b[39m)\n\u001b[0;32m     31\u001b[0m R_hat \u001b[38;5;241m=\u001b[39m np\u001b[38;5;241m.\u001b[39mcolumn_stack((rs_hat,rs_mis))\n\u001b[1;32m---> 32\u001b[0m a\u001b[38;5;241m=\u001b[39m\u001b[38;5;241m2\u001b[39m\n",
      "File \u001b[1;32m_pydevd_bundle/pydevd_cython.pyx:1457\u001b[0m, in \u001b[0;36m_pydevd_bundle.pydevd_cython.SafeCallWrapper.__call__\u001b[1;34m()\u001b[0m\n",
      "File \u001b[1;32m_pydevd_bundle/pydevd_cython.pyx:701\u001b[0m, in \u001b[0;36m_pydevd_bundle.pydevd_cython.PyDBFrame.trace_dispatch\u001b[1;34m()\u001b[0m\n",
      "File \u001b[1;32m_pydevd_bundle/pydevd_cython.pyx:1395\u001b[0m, in \u001b[0;36m_pydevd_bundle.pydevd_cython.PyDBFrame.trace_dispatch\u001b[1;34m()\u001b[0m\n",
      "File \u001b[1;32m_pydevd_bundle/pydevd_cython.pyx:1344\u001b[0m, in \u001b[0;36m_pydevd_bundle.pydevd_cython.PyDBFrame.trace_dispatch\u001b[1;34m()\u001b[0m\n",
      "File \u001b[1;32m_pydevd_bundle/pydevd_cython.pyx:312\u001b[0m, in \u001b[0;36m_pydevd_bundle.pydevd_cython.PyDBFrame.do_wait_suspend\u001b[1;34m()\u001b[0m\n",
      "File \u001b[1;32mc:\\Users\\evert\\anaconda3\\envs\\py38cu128\\lib\\site-packages\\debugpy\\_vendored\\pydevd\\pydevd.py:2070\u001b[0m, in \u001b[0;36mPyDB.do_wait_suspend\u001b[1;34m(self, thread, frame, event, arg, exception_type)\u001b[0m\n\u001b[0;32m   2067\u001b[0m             from_this_thread\u001b[38;5;241m.\u001b[39mappend(frame_custom_thread_id)\n\u001b[0;32m   2069\u001b[0m     \u001b[38;5;28;01mwith\u001b[39;00m \u001b[38;5;28mself\u001b[39m\u001b[38;5;241m.\u001b[39m_threads_suspended_single_notification\u001b[38;5;241m.\u001b[39mnotify_thread_suspended(thread_id, thread, stop_reason):\n\u001b[1;32m-> 2070\u001b[0m         keep_suspended \u001b[38;5;241m=\u001b[39m \u001b[38;5;28;43mself\u001b[39;49m\u001b[38;5;241;43m.\u001b[39;49m\u001b[43m_do_wait_suspend\u001b[49m\u001b[43m(\u001b[49m\u001b[43mthread\u001b[49m\u001b[43m,\u001b[49m\u001b[43m \u001b[49m\u001b[43mframe\u001b[49m\u001b[43m,\u001b[49m\u001b[43m \u001b[49m\u001b[43mevent\u001b[49m\u001b[43m,\u001b[49m\u001b[43m \u001b[49m\u001b[43marg\u001b[49m\u001b[43m,\u001b[49m\u001b[43m \u001b[49m\u001b[43msuspend_type\u001b[49m\u001b[43m,\u001b[49m\u001b[43m \u001b[49m\u001b[43mfrom_this_thread\u001b[49m\u001b[43m,\u001b[49m\u001b[43m \u001b[49m\u001b[43mframes_tracker\u001b[49m\u001b[43m)\u001b[49m\n\u001b[0;32m   2072\u001b[0m frames_list \u001b[38;5;241m=\u001b[39m \u001b[38;5;28;01mNone\u001b[39;00m\n\u001b[0;32m   2074\u001b[0m \u001b[38;5;28;01mif\u001b[39;00m keep_suspended:\n\u001b[0;32m   2075\u001b[0m     \u001b[38;5;66;03m# This means that we should pause again after a set next statement.\u001b[39;00m\n",
      "File \u001b[1;32mc:\\Users\\evert\\anaconda3\\envs\\py38cu128\\lib\\site-packages\\debugpy\\_vendored\\pydevd\\pydevd.py:2106\u001b[0m, in \u001b[0;36mPyDB._do_wait_suspend\u001b[1;34m(self, thread, frame, event, arg, suspend_type, from_this_thread, frames_tracker)\u001b[0m\n\u001b[0;32m   2103\u001b[0m         \u001b[38;5;28mself\u001b[39m\u001b[38;5;241m.\u001b[39m_call_input_hook()\n\u001b[0;32m   2105\u001b[0m     \u001b[38;5;28mself\u001b[39m\u001b[38;5;241m.\u001b[39mprocess_internal_commands()\n\u001b[1;32m-> 2106\u001b[0m     \u001b[43mtime\u001b[49m\u001b[38;5;241;43m.\u001b[39;49m\u001b[43msleep\u001b[49m\u001b[43m(\u001b[49m\u001b[38;5;241;43m0.01\u001b[39;49m\u001b[43m)\u001b[49m\n\u001b[0;32m   2108\u001b[0m \u001b[38;5;28mself\u001b[39m\u001b[38;5;241m.\u001b[39mcancel_async_evaluation(get_current_thread_id(thread), \u001b[38;5;28mstr\u001b[39m(\u001b[38;5;28mid\u001b[39m(frame)))\n\u001b[0;32m   2110\u001b[0m \u001b[38;5;66;03m# process any stepping instructions\u001b[39;00m\n",
      "\u001b[1;31mKeyboardInterrupt\u001b[0m: "
     ]
    }
   ],
   "source": [
    "# recap of known/given data:\n",
    "k0 = np.sqrt(np.sum(T_truth**2,axis=0))\n",
    "k0 = k0*np.ones((1,Pw.shape[1]))\n",
    "#k0 = k0 + np.random.normal(0,1,np.prod(k0.shape)).reshape((k0.shape))\n",
    "Ul = Pl/np.sqrt(np.sum((Pl**2),axis=0))\n",
    "\n",
    "\n",
    "def step_1(k, Ul, Pw):\n",
    "    # compute Pl:\n",
    "    Pl = k*Ul\n",
    "    # get dPl and dPw:\n",
    "    dPl = Pl[:,0:-1] - Pl[:,1:]\n",
    "    dPw = Pw[:,0:-1] - Pw[:,1:]\n",
    "\n",
    "\n",
    "    cv2.solve\n",
    "\n",
    "\n",
    "\n",
    "\n",
    "    # construct regressor matrix:\n",
    "    eta = dPw[0:2,:].T\n",
    "    \n",
    "    mz = np.zeros_like(eta)\n",
    "    M1 = np.column_stack((eta,mz,mz))\n",
    "    M2 = np.column_stack((mz,eta,mz))\n",
    "    M3 = np.column_stack((mz,mz,eta))\n",
    "    M = np.row_stack((M1,M2,M3))\n",
    "\n",
    "    b = np.row_stack((dPl[0,:].reshape(-1,1), dPl[1,:].reshape(-1,1), dPl[2,:].reshape(-1,1)))\n",
    "    rs_hat = np.linalg.inv(M.T.dot(M)).dot(M.T.dot(b))\n",
    "    rs_hat = rs_hat.reshape(3,2)\n",
    "    rs_hat = rs_hat/np.sqrt(np.sum(rs_hat**2,0,keepdims=True))\n",
    "\n",
    "    # recovering the rx3 that cannot be estimated:\n",
    "    rs_mis = np.sqrt(1 - np.sum(rs_hat**2,1,keepdims=True))\n",
    "    rx3 = rs_mis.reshape(3,1)\n",
    "    R_hat = np.column_stack((rs_hat,rs_mis))\n",
    "    a=2\n",
    "    \n",
    "step_1(k0,Ul,Pw)\n",
    "\n",
    "\n",
    "\n",
    "print(k0.shape)"
   ]
  }
 ],
 "metadata": {
  "kernelspec": {
   "display_name": "py38cu128",
   "language": "python",
   "name": "python3"
  },
  "language_info": {
   "codemirror_mode": {
    "name": "ipython",
    "version": 3
   },
   "file_extension": ".py",
   "mimetype": "text/x-python",
   "name": "python",
   "nbconvert_exporter": "python",
   "pygments_lexer": "ipython3",
   "version": "3.8.19"
  }
 },
 "nbformat": 4,
 "nbformat_minor": 2
}
